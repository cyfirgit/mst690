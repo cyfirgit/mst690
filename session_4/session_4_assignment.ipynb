{
 "metadata": {
  "language_info": {
   "codemirror_mode": {
    "name": "ipython",
    "version": 3
   },
   "file_extension": ".py",
   "mimetype": "text/x-python",
   "name": "python",
   "nbconvert_exporter": "python",
   "pygments_lexer": "ipython3",
   "version": "3.8.3-final"
  },
  "orig_nbformat": 2,
  "kernelspec": {
   "name": "python3",
   "display_name": "Python 3",
   "language": "python"
  }
 },
 "nbformat": 4,
 "nbformat_minor": 2,
 "cells": [
  {
   "cell_type": "code",
   "execution_count": 64,
   "metadata": {},
   "outputs": [],
   "source": [
    "import math"
   ]
  },
  {
   "cell_type": "code",
   "execution_count": 65,
   "metadata": {},
   "outputs": [],
   "source": [
    "# calculate euclidean distance for 2 points in n-dimensional space\n",
    "def euclidean_dist(a, b):\n",
    "    return math.sqrt(sum([(a[x] - b[x]) ** 2 for x in range(len(a))]))\n",
    "\n",
    "# return the centroid of a list of points in n-dimensional space\n",
    "def find_centroid(points):\n",
    "    results = []\n",
    "    for i in range(len(points[0])):\n",
    "        sum = 0\n",
    "        for point in points:\n",
    "            sum += point[i]\n",
    "        results.append(sum / len(points))\n",
    "    return results\n",
    "\n",
    "# perform one iteration of k-means clustering\n",
    "def k_means(points, centroids):\n",
    "    results = {}\n",
    "    clusters = {}\n",
    "    new_centroids = []\n",
    "    for centroid in centroids:\n",
    "        clusters[str(centroid)] = []\n",
    "    #print(clusters)\n",
    "\n",
    "    for point in points:\n",
    "        min = euclidean_dist(point, centroids[0])\n",
    "        closest = str(centroids[0])\n",
    "        for centroid in centroids:\n",
    "            dist = euclidean_dist(point, centroid)\n",
    "            if dist < min:\n",
    "                min = dist \n",
    "                closest = str(centroid)\n",
    "        #print(f'Closest centroid for point {point}: {closest} | distance: {min}')\n",
    "        clusters[closest].append(point)\n",
    "    \n",
    "    for cluster in clusters:\n",
    "        new_centroid = find_centroid(clusters[cluster])\n",
    "        results[str(new_centroid)] = clusters[cluster]\n",
    "        new_centroids.append(new_centroid)\n",
    "\n",
    "    return results, new_centroids\n",
    "\n",
    "# perform a serires of iterations of k means and print results as you go:\n",
    "def k_means_iter(points, centroids, iterations):\n",
    "    clusters = None\n",
    "    for i in range(iterations):\n",
    "        new_clusters, new_centroids = k_means(points, centroids)\n",
    "        \n",
    "        shift = [euclidean_dist(centroids[x], new_centroids[x]) for x in range(len(centroids))]\n",
    "        print(f'Old Centroids: {centroids}')\n",
    "        print(f'New Centroids: {new_centroids}')\n",
    "        print(f'Shift: {shift}')\n",
    "        centroids = new_centroids\n",
    "        clusters = new_clusters\n",
    "    return centroids, clusters\n"
   ]
  },
  {
   "cell_type": "code",
   "execution_count": 66,
   "metadata": {},
   "outputs": [],
   "source": [
    "guess_centroids = [(10,20,80), (10,50,110)]\n",
    "users = {\n",
    "    1001: [(8,22,62), True],\n",
    "    1002: [(15,51,85), True],\n",
    "    1003: [(9,44,121), True],\n",
    "    1004: [(8,51,136), True],\n",
    "    1005: [(8,20,93), True],\n",
    "    1006: [(15,64,124), True],\n",
    "    1007: [(14,56,101), True],\n",
    "    1008: [(5,10,80), True],\n",
    "    1009: [(5,18,73), True],\n",
    "    1010: [(9,26,79), True],\n",
    "}\n"
   ]
  },
  {
   "source": [
    "<h3>a) Perform two iterations of k-means clustering on the above data set. Show all work.<br>\n",
    "Use the coordinates (10, 20, 80) and (10, 50, 110), corresponding to (Feature 1,<br>\n",
    "Feature 2, Feature 3), as your initial “best guess” clusters.<br></h3)"
   ],
   "cell_type": "markdown",
   "metadata": {}
  },
  {
   "cell_type": "code",
   "execution_count": 67,
   "metadata": {},
   "outputs": [
    {
     "output_type": "stream",
     "name": "stdout",
     "text": [
      "Old Centroids: [(10, 20, 80), (10, 50, 110)]\nNew Centroids: [[7.0, 19.2, 77.4], [12.2, 53.2, 113.4]]\nShift: [4.049691346263313, 5.161395160225581]\nOld Centroids: [[7.0, 19.2, 77.4], [12.2, 53.2, 113.4]]\nNew Centroids: [[7.0, 19.2, 77.4], [12.2, 53.2, 113.4]]\nShift: [0.0, 0.0]\n"
     ]
    },
    {
     "output_type": "execute_result",
     "data": {
      "text/plain": [
       "([[7.0, 19.2, 77.4], [12.2, 53.2, 113.4]],\n",
       " {'[7.0, 19.2, 77.4]': [(8, 22, 62),\n",
       "   (8, 20, 93),\n",
       "   (5, 10, 80),\n",
       "   (5, 18, 73),\n",
       "   (9, 26, 79)],\n",
       "  '[12.2, 53.2, 113.4]': [(15, 51, 85),\n",
       "   (9, 44, 121),\n",
       "   (8, 51, 136),\n",
       "   (15, 64, 124),\n",
       "   (14, 56, 101)]})"
      ]
     },
     "metadata": {},
     "execution_count": 67
    }
   ],
   "source": [
    "\n",
    "k_means_iter([users[x][0] for x in users], guess_centroids, 2)"
   ]
  },
  {
   "source": [
    "<h3>b) Determine if convergence occurred after two iterations of k-means</h3><br>\n",
    "<br>\n",
    "Yes"
   ],
   "cell_type": "markdown",
   "metadata": {}
  },
  {
   "source": [
    "<h3>c) How well did your algorithm cluster military personnel verses non-military<br>\n",
    "personnel? Construct a confusion matrix, and calculate the Matthews’ Correlation<br>\n",
    "Coefficient.<br></h3>\n",
    "<br>\n",
    "<i>NOTE: I am assuming from the structure of the question that we're assuming that the <br>\n",
    "'0' value users are <b>known</b> non-military, which isn't clear from the original question. <br>\n",
    "If we're saying we don't know the status of '0' value users, I don't know how to do this.</i><br>\n",
    "<br>\n",
    "\n",
    "It would appear that the clustering algorithm conformed perfectly to the prior prediction.<br>\n",
    "<br>\n",
    "<table>\n",
    "<tr><td></td>                   <td>Condition Positive</td> <td>Condition Negative</td></tr>\n",
    "<tr><td>Predicted Positive</td> <td>5</td>                  <td>0</td></tr>\n",
    "<tr><td>Predicted Negative</td> <td>0</td>                <td>5</td></td>\n",
    "</table>\n"
   ],
   "cell_type": "markdown",
   "metadata": {}
  },
  {
   "cell_type": "code",
   "execution_count": 68,
   "metadata": {},
   "outputs": [
    {
     "output_type": "execute_result",
     "data": {
      "text/plain": [
       "1.0"
      ]
     },
     "metadata": {},
     "execution_count": 68
    }
   ],
   "source": [
    "def mcc(tp,tn,fp,fn):\n",
    "    return(((tp * tn) - (fp * fn)) / math.sqrt((tp + fp) * (tp + fn) * (tn + fp) * (tn + fn)))\n",
    "\n",
    "mcc(5, 5, 0, 0)"
   ]
  },
  {
   "source": [
    "<h3>d) You selected three features to use in this computation because you determined that<br>\n",
    "they are the three most correlated features with “military” status. While adding<br>\n",
    "additional features up to a certain point will enhance clustering model accuracy,<br>\n",
    "adding too many features diminishes accuracy. Explain why this is true.<br></h3>\n",
    "<br>\n",
    "The \"curse of dimensionality\" shows that as the number of dimensions (features) increase, the euclidean<br>\n",
    "distance between pairs of points becomes meaninglessly large - every point is treated as very distant from<br>\n",
    "any centroid.<br>"
   ],
   "cell_type": "markdown",
   "metadata": {}
  },
  {
   "source": [
    "## 2) Given the following:\n",
    "\n",
    "$$\n",
    "\\Large\n",
    "\\frac {V_{hypersphere}} {V_{hypercube}} = \\frac {\\pi^{\\frac{n}{2}}} {n2^{n-1}\\Gamma(\\frac{n}{2})} \\, \\rightarrow \\, 0 \\,\\, as \\,\\, n \\, \\rightarrow \\, \\infty\n",
    "$$\n",
    "\n",
    "\n",
    "## and\n",
    "\n",
    "$$\n",
    "\\Large\n",
    "\\Gamma (\\frac {3} {2}) = \\frac {1} {2} \\sqrt {\\pi}\n",
    "$$\n",
    "\n",
    "## show that $$ \\frac {V_{hypersphere}} {V_{hypercube}} = \\frac {\\pi} {6} $$ in 3 dimensions (n=3)."
   ],
   "cell_type": "markdown",
   "metadata": {}
  },
  {
   "source": [
    "<img src=\"assignment_4_question_2.jpg\" width = 800>"
   ],
   "cell_type": "markdown",
   "metadata": {}
  },
  {
   "cell_type": "code",
   "execution_count": null,
   "metadata": {},
   "outputs": [],
   "source": []
  }
 ]
}