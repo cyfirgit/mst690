{
 "cells": [
  {
   "cell_type": "markdown",
   "metadata": {},
   "source": [
    "# Data Science Mathematics\n",
    "# Markov Chains and Natural Language Generation\n",
    "# In-Class Activity"
   ]
  },
  {
   "source": [
    "Generated Tweets:<br>\n",
    "RT @JohnKStahlUSA: As Trump Allies Move to Venezuela &amp; enjoy the meal without them!<br>\n",
    "Multiple felony investigations American Thinker - https://t.co/vDznXyGUw7 - https://…. RT @AbnInfVet: #BHO put us in prayer as he stood w/th…. RT @JRGrayThunder: Ivana Trump Says Clinton Would Push Anti-Bullying Effort If Elected #politics.<br>\n",
    "RT @MiamiSixthMan: @VercettiCJ @metalhanded @WWE @ShutUpAmanda Not a surprise https://t.co/ZYdJro7h5b https://t.co/Pqryutz…. RT @BlackToLive: Obama had 4 decent tweets in favor #CrookedHillary https://t.co/0I4kv7H2aq.<br>\n",
    "RT @thecish: #HateToEatAndRun but this shit kosher!<br>\n",
    "RT @BuzzFeedNews: Ava DuVernay to celebrate Women's History Month In ‘Loud and Fun Way’ https://t.co/uxPGMgUlDp.<br>\n",
    "RT @uncle_gong: #POTUSLastTweet the whole world wait https://t.co/9TbJFQq6Mf.<br>\n",
    "#SomeoneWhoKillsChildren Poroshenko is a Racist, So what?<br>\n",
    "RT @AmyMek: Afghanistan used to in high level meetings https://t.co/A7HCC4sLhu.<br>\n",
    "RT @choo2008: Going on a daily thing?<br>\n",
    "Today he announced the end of the situation is not an investment vehicle?. Scenes From the annual school Christmas pageant... https://t.co/KvNe8DlTSk.<br>"
   ],
   "cell_type": "markdown",
   "metadata": {}
  },
  {
   "source": [
    "Training Set:<br>\n",
    "#IslamKills Are you trying to say that there were no terrorist attacks in Europe before refugees were let in?<br>\n",
    "Clinton: Trump should’ve apologized more, attacked less https://t.co/eJampkoHFZ<br>\n",
    "RT @ltapoll: Who was/is the best president of the past 25 years? (Vote &amp; Retweet)<br>\n",
    "RT @jww372: I don't have to guess your religion! #ChristmasAftermath<br>\n",
    "RT @Shareblue: Pence and his lawyers decided which of his official emails the public could see<br>\n",
    "<br>\n",
    "https://t.co/HjhPguBK1Y by @alisonrose711<br>\n",
    "@ModicaGiunta me, too!<br>\n",
    "RT @MDBlanchfield: You’ll never guess who tweeted something false that he saw on TV - The Washington Post https://t.co/K2e4XdXRfu<br>\n",
    "RT @100PercFEDUP: New post: WATCH: DIAMOND AND SILK Rip On John Kerry Over Israel Comments (VIDEO) https://t.co/NkdKaQ9yYu<br>\n",
    "RT @AriaWilsonGOP: 3 Women Face Charges After Being Caught Stealing Dozens Of Trump Signs https://t.co/JjlZxaW3JN https://t.co/qW2Ok9ROxH<br>\n",
    "One of the ways to remind that #BlackLivesMatter #BlackPressDay<br>"
   ],
   "cell_type": "markdown",
   "metadata": {}
  },
  {
   "source": [
    "<h3>8) Are your generated tweets similar to the training set?  Why or why not?</h3><br>\n",
    "<br>\n",
    "Not especially. It's hard to say with certainty about the tweets that are short replies to others, since the context lies entirely with the original tweet, but the generated tweets that have any real \"meat\" to them are only semi-coherent.  It looks like it gets all the buzzwords, but it doesn't know what they mean in relation to each other.  In some cases, it mashes together multiple themes mid-tweet.  Most hilariously, it seems to be streaming mulitple retweets together into a single tweet if it can fit more than one into the character limit.<br>\n",
    "\n"
   ],
   "cell_type": "markdown",
   "metadata": {}
  },
  {
   "cell_type": "markdown",
   "metadata": {},
   "source": [
    "<h3>9) Do you think your bot would pass a Turing Test?  Why or why not? (Type your answer on another sheet)</h3><br>\n",
    "I do not - there are clear failures of the system that would be easily identifiable to the average human, such as the multi-tweet tweets and the semi-coherent topic shifts."
   ]
  },
  {
   "cell_type": "markdown",
   "metadata": {},
   "source": [
    "By now you probably want to save all your hard work.  Let's generate a function to pickle your bot, so you can load it later without having to retrain your model..."
   ]
  }
 ],
 "metadata": {
  "kernelspec": {
   "display_name": "Python 3",
   "language": "python",
   "name": "python3"
  },
  "language_info": {
   "codemirror_mode": {
    "name": "ipython",
    "version": 3
   },
   "file_extension": ".py",
   "mimetype": "text/x-python",
   "name": "python",
   "nbconvert_exporter": "python",
   "pygments_lexer": "ipython3",
   "version": "3.8.3-final"
  }
 },
 "nbformat": 4,
 "nbformat_minor": 2
}