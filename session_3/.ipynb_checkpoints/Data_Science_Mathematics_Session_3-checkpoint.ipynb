{
 "cells": [
  {
   "cell_type": "markdown",
   "metadata": {},
   "source": [
    "# Data Science Mathematics\n",
    "# Simple Linear Regression\n",
    "# In-Class Activity"
   ]
  },
  {
   "cell_type": "markdown",
   "metadata": {},
   "source": [
    "Refer to your class handout for background information."
   ]
  },
  {
   "cell_type": "code",
   "execution_count": 1,
   "metadata": {},
   "outputs": [
    {
     "output_type": "stream",
     "name": "stdout",
     "text": [
      "Requirement already satisfied: scipy in /home/cyfir/anaconda3/lib/python3.8/site-packages (1.5.0)\n",
      "Requirement already satisfied: numpy>=1.14.5 in /home/cyfir/anaconda3/lib/python3.8/site-packages (from scipy) (1.18.5)\n",
      "Requirement already satisfied: numpy in /home/cyfir/anaconda3/lib/python3.8/site-packages (1.18.5)\n"
     ]
    }
   ],
   "source": [
    "!pip install scipy\n",
    "!pip install numpy\n",
    "\n",
    "import numpy as np\n",
    "from scipy import stats\n",
    "import math"
   ]
  },
  {
   "cell_type": "code",
   "execution_count": 2,
   "metadata": {},
   "outputs": [],
   "source": [
    "submarine_sightings = np.array([1,2,3,4,5,6,7,8,9,10])\n",
    "cyber_activity_metric = np.array([0.021025,0.022103,0.023237,0.024428,0.025681,0.026997,0.028381,0.029836,0.031366,0.032974])"
   ]
  },
  {
   "cell_type": "markdown",
   "metadata": {},
   "source": [
    "<h2>a. Calculate the sample correlation coefficient.</h2>"
   ]
  },
  {
   "cell_type": "code",
   "execution_count": 4,
   "metadata": {},
   "outputs": [
    {
     "output_type": "stream",
     "name": "stdout",
     "text": [
      "5.5 0.026602800000000003\n"
     ]
    }
   ],
   "source": [
    "sub_avg = sum(submarine_sightings) / len(submarine_sightings)\n",
    "cyber_avg = sum(cyber_activity_metric) / len(cyber_activity_metric)\n",
    "print(sub_avg, cyber_avg)"
   ]
  },
  {
   "cell_type": "code",
   "execution_count": 5,
   "metadata": {},
   "outputs": [
    {
     "output_type": "stream",
     "name": "stdout",
     "text": [
      "0.012141777777777779\n"
     ]
    }
   ],
   "source": [
    "covariance = sum([(x[0] - sub_avg) * (x[1] - cyber_avg) for x in zip(submarine_sightings, cyber_activity_metric)]) / (len(cyber_activity_metric) - 1)\n",
    "print(covariance)"
   ]
  },
  {
   "cell_type": "code",
   "execution_count": 7,
   "metadata": {},
   "outputs": [
    {
     "output_type": "stream",
     "name": "stdout",
     "text": [
      "3.0276503540974917 0.004018282767551334\n"
     ]
    }
   ],
   "source": [
    "sub_stdev = math.sqrt(sum([(x - sub_avg) ** 2 for x in submarine_sightings]) / (len(submarine_sightings) - 1))\n",
    "cyber_stdev = math.sqrt(sum([(x - cyber_avg) ** 2 for x in cyber_activity_metric]) / (len(cyber_activity_metric) - 1))\n",
    "print(sub_stdev, cyber_stdev)"
   ]
  },
  {
   "cell_type": "code",
   "execution_count": 11,
   "metadata": {},
   "outputs": [
    {
     "output_type": "stream",
     "name": "stdout",
     "text": [
      "0.9980126947882116\n0.996029338958428\n"
     ]
    }
   ],
   "source": [
    "sample_corr_coeff = covariance / (sub_stdev * cyber_stdev)\n",
    "print(sample_corr_coeff)\n",
    "print(sample_corr_coeff ** 2)"
   ]
  },
  {
   "source": [
    "<h2>b. Calculate the parameters 𝛼̂ and 𝛽̂.</h2>"
   ],
   "cell_type": "markdown",
   "metadata": {}
  },
  {
   "cell_type": "code",
   "execution_count": 13,
   "metadata": {},
   "outputs": [
    {
     "output_type": "stream",
     "name": "stdout",
     "text": [
      "0.001324557575757576\n"
     ]
    }
   ],
   "source": [
    "variance_sub = sum([(x - sub_avg) ** 2 for x in submarine_sightings]) / (len(submarine_sightings) - 1)\n",
    "beta_hat = covariance / variance_sub\n",
    "print(beta_hat)"
   ]
  },
  {
   "cell_type": "code",
   "execution_count": 14,
   "metadata": {},
   "outputs": [
    {
     "output_type": "stream",
     "name": "stdout",
     "text": [
      "0.019317733333333337\n"
     ]
    }
   ],
   "source": [
    "alpha_hat = cyber_avg - beta_hat * sub_avg\n",
    "print(alpha_hat)"
   ]
  },
  {
   "source": [
    "<h2>c. Does a linear relationship exist between these data sets? How do you know?</h2><br>\n",
    "Yes.  The r2 being very close to 1 demonstrates a linear relationship within the sample data sets.<p>\n",
    "\n",
    "<h2>d. Based on your calculations, is there a correlative relationship between cyber activity and submarines within the region?</h2><br>\n",
    "Yes."
   ],
   "cell_type": "markdown",
   "metadata": {}
  }
 ],
 "metadata": {
  "kernelspec": {
   "display_name": "Python 3",
   "language": "python",
   "name": "python3"
  },
  "language_info": {
   "codemirror_mode": {
    "name": "ipython",
    "version": 3
   },
   "file_extension": ".py",
   "mimetype": "text/x-python",
   "name": "python",
   "nbconvert_exporter": "python",
   "pygments_lexer": "ipython3",
   "version": "3.8.3-final"
  }
 },
 "nbformat": 4,
 "nbformat_minor": 2
}